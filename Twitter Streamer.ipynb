{
 "cells": [
  {
   "cell_type": "markdown",
   "metadata": {},
   "source": [
    "# Project Result - Twitter Streamer\n",
    "# Team Hadochi \n",
    "\n",
    "## Michiel Voermans\n",
    "## Jorn van der Ent\n",
    "\n",
    "#### 2/2/2017"
   ]
  },
  {
   "cell_type": "markdown",
   "metadata": {},
   "source": [
    "## Import modules"
   ]
  },
  {
   "cell_type": "code",
   "execution_count": 1,
   "metadata": {
    "collapsed": false
   },
   "outputs": [],
   "source": [
    "from twython import TwythonStreamer\n",
    "from datetime import datetime\n",
    "import psycopg2\n",
    "import re"
   ]
  },
  {
   "cell_type": "markdown",
   "metadata": {},
   "source": [
    "## Enter your details for twitter API"
   ]
  },
  {
   "cell_type": "code",
   "execution_count": 2,
   "metadata": {
    "collapsed": true
   },
   "outputs": [],
   "source": [
    "# get access to the twitter API\n",
    "APP_KEY =  'fQCYxyQmFDUE6aty0JEhDoZj7'\n",
    "APP_SECRET = 'ZwVIgnWMpuEEVd1Tlg6TWMuyRwd3k90W3oWyLR2Ek1tnjnRvEG'\n",
    "OAUTH_TOKEN =  '824520596293820419-f4uGwMV6O7PSWUvbPQYGpsz5fMSVMct'\n",
    "OAUTH_TOKEN_SECRET = '1wq51Im5HQDoSM0Fb5OzAttoP3otToJtRFeltg68B8krh'"
   ]
  },
  {
   "cell_type": "markdown",
   "metadata": {},
   "source": [
    "## Set up details for PostGIS DB, run in terminal:"
   ]
  },
  {
   "cell_type": "markdown",
   "metadata": {},
   "source": [
    "We are going to use a PostGis database, which requires you to have an empty database. Enter these commands into the terminal to set up you databse.\n",
    "In this example we use \"tweets\" as the name of our database. Feel free to give you database another name, but replace \"tweets\" with the name you have chosen. \n",
    "\n",
    "##### Connect to postgres\n",
    "psql -d postgres\n",
    "\n",
    "##### Create database\n",
    "postgres=# CREATE DATABASE tweets;\n",
    "\n",
    "##### Switch to new DB\n",
    "postgres=# \\c tweets\n",
    "\n",
    "##### Add PostGIS extension to new DB\n",
    "tweets=# create extension postgis;\n",
    "\n",
    "#### Add Table \n",
    "tweets=# CREATE TABLE rawtweets (id serial primary key, tweet_id BIGINT, text varchar(140), date DATE, time TIME, geom geometry(POINT,4326) );"
   ]
  },
  {
   "cell_type": "markdown",
   "metadata": {},
   "source": [
    "## Enter your database connection details:"
   ]
  },
  {
   "cell_type": "code",
   "execution_count": 3,
   "metadata": {
    "collapsed": true
   },
   "outputs": [],
   "source": [
    "dbname = \"tweets\"\n",
    "user = \"user\"\n",
    "password = \"user\"\n",
    "table = \"rawtweets\""
   ]
  },
  {
   "cell_type": "markdown",
   "metadata": {},
   "source": [
    "## Function which connects to PostGis database and inserts data"
   ]
  },
  {
   "cell_type": "code",
   "execution_count": 4,
   "metadata": {
    "collapsed": false
   },
   "outputs": [],
   "source": [
    "def insert_into_DB(tweet_id, tweet_text, tweet_date, tweet_time, tweet_lat, tweet_lon):\n",
    "    try:\n",
    "        conn = psycopg2.connect(dbname = dbname, user = user, password = password)\n",
    "        cur = conn.cursor()\n",
    "        # enter stuff in database\n",
    "        sql = \"INSERT INTO %s (tweet_id, text, date, time, geom) VALUES (%d, '%s', '%s', '%s', \\\n",
    "        ST_GeomFromText('POINT(%f %f)', 4326))\" % (table, tweet_id, tweet_text, tweet_date, \n",
    "                                                   tweet_time, tweet_lon, tweet_lat)\n",
    "        cur.execute(sql)\n",
    "        conn.commit()\n",
    "        conn.close()\n",
    "\n",
    "    except psycopg2.DatabaseError, e:\n",
    "        print 'Error %s' % e "
   ]
  },
  {
   "cell_type": "markdown",
   "metadata": {},
   "source": [
    "## Function to remove the hyperlinks from the text"
   ]
  },
  {
   "cell_type": "code",
   "execution_count": 5,
   "metadata": {
    "collapsed": true
   },
   "outputs": [],
   "source": [
    "def remove_link(text):\n",
    "    pattern = r'(https://)'\n",
    "    matcher = re.compile(pattern)\n",
    "    match = matcher.search(text)\n",
    "    if match != None:\n",
    "        text = text[:match.start(1)]\n",
    "    return text"
   ]
  },
  {
   "cell_type": "markdown",
   "metadata": {},
   "source": [
    "## Process JSON twitter streamd data"
   ]
  },
  {
   "cell_type": "code",
   "execution_count": null,
   "metadata": {
    "collapsed": false
   },
   "outputs": [],
   "source": [
    "#Class to process JSON data comming from the twitter stream API. Extract relevant fields\n",
    "class MyStreamer(TwythonStreamer):\n",
    "    def on_success(self, data):\n",
    "        tweet_lat = 0.0\n",
    "        tweet_lon = 0.0\n",
    "        tweet_name = \"\"\n",
    "        retweet_count = 0\n",
    "\n",
    "        if 'id' in data:\n",
    "            tweet_id = data['id']\n",
    "        if 'entities' in data:\n",
    "            tweet_entities = data['entities']\n",
    "            if 'hashtags' in tweet_entities:\n",
    "                tweet_hashtags = tweet_entities['hashtags']\n",
    "                hashtext = \"\"\n",
    "                for hashtag in tweet_hashtags:\n",
    "                    hashtext += hashtag['text'].encode('utf-8') + ' '\n",
    "                        \n",
    "        if 'coordinates' in data:    \n",
    "            geo = data['coordinates']\n",
    "            if geo is not None:\n",
    "                latlon = geo['coordinates']\n",
    "                tweet_lon = latlon[0]\n",
    "                tweet_lat = latlon[1]\n",
    "        if 'created_at' in data:\n",
    "                dt = data['created_at']\n",
    "                tweet_datetime = datetime.strptime(dt, '%a %b %d %H:%M:%S +0000 %Y')\n",
    "                tweet_date = str(tweet_datetime)[:11]\n",
    "                tweet_time = str(tweet_datetime)[11:]\n",
    "                  \n",
    "        if tweet_lat != 0:\n",
    "                # call function to write to DB\n",
    "                insert_into_DB(tweet_id, hashtext, tweet_date, tweet_time, tweet_lat, tweet_lon)\n",
    "                 \n",
    "    def on_error(self, status_code, data):\n",
    "        print \"OOPS FOUTJE: \" + str(status_code)"
   ]
  },
  {
   "cell_type": "markdown",
   "metadata": {},
   "source": [
    "## Main procedure"
   ]
  },
  {
   "cell_type": "code",
   "execution_count": null,
   "metadata": {
    "collapsed": false
   },
   "outputs": [],
   "source": [
    "def main():\n",
    "    try:\n",
    "        stream = MyStreamer(APP_KEY, APP_SECRET,OAUTH_TOKEN, OAUTH_TOKEN_SECRET)\n",
    "        print 'Connecting to twitter: will take a minute'\n",
    "    except ValueError:\n",
    "        print 'Error; Something went wrong while making connection with Twitter: '+str(ValueError)\n",
    "    \n",
    "    \n",
    "    # Filter based on bounding box see twitter api documentation for more info\n",
    "    try:\n",
    "        stream.statuses.filter(locations = [-0.489, 51.28, 0.236, 51.686]) # London\n",
    "    except ValueError:\n",
    "        print 'Error; Something went wrong while getting the stream from Twitter: '+str(ValueError)\n",
    "\n",
    "\n",
    "                \n",
    "if __name__ == '__main__':\n",
    "    main()"
   ]
  }
 ],
 "metadata": {
  "kernelspec": {
   "display_name": "Python 2",
   "language": "python",
   "name": "python2"
  },
  "language_info": {
   "codemirror_mode": {
    "name": "ipython",
    "version": 2
   },
   "file_extension": ".py",
   "mimetype": "text/x-python",
   "name": "python",
   "nbconvert_exporter": "python",
   "pygments_lexer": "ipython2",
   "version": "2.7.12"
  },
  "widgets": {
   "state": {},
   "version": "1.1.2"
  }
 },
 "nbformat": 4,
 "nbformat_minor": 0
}
